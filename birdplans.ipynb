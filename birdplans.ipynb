{
 "cells": [
  {
   "cell_type": "code",
   "execution_count": 1,
   "metadata": {},
   "outputs": [
    {
     "ename": "FileNotFoundError",
     "evalue": "[Errno 2] No such file or directory: 'data/skyfield/data/tle/active.txt'",
     "output_type": "error",
     "traceback": [
      "\u001b[0;31m---------------------------------------------------------------------------\u001b[0m",
      "\u001b[0;31mFileNotFoundError\u001b[0m                         Traceback (most recent call last)",
      "\u001b[0;32m<ipython-input-1-bf036c6cb60b>\u001b[0m in \u001b[0;36m<module>\u001b[0;34m\u001b[0m\n\u001b[1;32m     19\u001b[0m \u001b[0;34m\u001b[0m\u001b[0m\n\u001b[1;32m     20\u001b[0m \u001b[0;34m'''CONFIGURE ME!!!!'''\u001b[0m\u001b[0;34m\u001b[0m\u001b[0;34m\u001b[0m\u001b[0m\n\u001b[0;32m---> 21\u001b[0;31m \u001b[0mtle\u001b[0m \u001b[0;34m=\u001b[0m \u001b[0mload\u001b[0m\u001b[0;34m.\u001b[0m\u001b[0mtle\u001b[0m\u001b[0;34m(\u001b[0m\u001b[0;34m'data/tle/active.txt'\u001b[0m\u001b[0;34m)\u001b[0m\u001b[0;34m\u001b[0m\u001b[0;34m\u001b[0m\u001b[0m\n\u001b[0m\u001b[1;32m     22\u001b[0m \u001b[0msrc_mh\u001b[0m \u001b[0;34m=\u001b[0m \u001b[0;34m'EM15'\u001b[0m\u001b[0;34m\u001b[0m\u001b[0;34m\u001b[0m\u001b[0m\n\u001b[1;32m     23\u001b[0m \u001b[0msatellite\u001b[0m \u001b[0;34m=\u001b[0m \u001b[0;34m'FOX-1B'\u001b[0m\u001b[0;34m\u001b[0m\u001b[0;34m\u001b[0m\u001b[0m\n",
      "\u001b[0;32m~/.virtualenvs/birdplans/lib/python3.7/site-packages/skyfield/iokit.py\u001b[0m in \u001b[0;36mtle\u001b[0;34m(self, url, reload, filename)\u001b[0m\n\u001b[1;32m    211\u001b[0m         \"\"\"\n\u001b[1;32m    212\u001b[0m         \u001b[0md\u001b[0m \u001b[0;34m=\u001b[0m \u001b[0;34m{\u001b[0m\u001b[0;34m}\u001b[0m\u001b[0;34m\u001b[0m\u001b[0;34m\u001b[0m\u001b[0m\n\u001b[0;32m--> 213\u001b[0;31m         \u001b[0;32mwith\u001b[0m \u001b[0mself\u001b[0m\u001b[0;34m.\u001b[0m\u001b[0mopen\u001b[0m\u001b[0;34m(\u001b[0m\u001b[0murl\u001b[0m\u001b[0;34m,\u001b[0m \u001b[0mreload\u001b[0m\u001b[0;34m=\u001b[0m\u001b[0mreload\u001b[0m\u001b[0;34m,\u001b[0m \u001b[0mfilename\u001b[0m\u001b[0;34m=\u001b[0m\u001b[0mfilename\u001b[0m\u001b[0;34m)\u001b[0m \u001b[0;32mas\u001b[0m \u001b[0mf\u001b[0m\u001b[0;34m:\u001b[0m\u001b[0;34m\u001b[0m\u001b[0;34m\u001b[0m\u001b[0m\n\u001b[0m\u001b[1;32m    214\u001b[0m             \u001b[0;32mfor\u001b[0m \u001b[0mnames\u001b[0m\u001b[0;34m,\u001b[0m \u001b[0msat\u001b[0m \u001b[0;32min\u001b[0m \u001b[0mparse_tle\u001b[0m\u001b[0;34m(\u001b[0m\u001b[0mf\u001b[0m\u001b[0;34m)\u001b[0m\u001b[0;34m:\u001b[0m\u001b[0;34m\u001b[0m\u001b[0;34m\u001b[0m\u001b[0m\n\u001b[1;32m    215\u001b[0m                 \u001b[0md\u001b[0m\u001b[0;34m[\u001b[0m\u001b[0msat\u001b[0m\u001b[0;34m.\u001b[0m\u001b[0mmodel\u001b[0m\u001b[0;34m.\u001b[0m\u001b[0msatnum\u001b[0m\u001b[0;34m]\u001b[0m \u001b[0;34m=\u001b[0m \u001b[0msat\u001b[0m\u001b[0;34m\u001b[0m\u001b[0;34m\u001b[0m\u001b[0m\n",
      "\u001b[0;32m~/.virtualenvs/birdplans/lib/python3.7/site-packages/skyfield/iokit.py\u001b[0m in \u001b[0;36mopen\u001b[0;34m(self, url, mode, reload, filename)\u001b[0m\n\u001b[1;32m    240\u001b[0m             \u001b[0mpath_that_might_be_relative\u001b[0m \u001b[0;34m=\u001b[0m \u001b[0murl\u001b[0m\u001b[0;34m\u001b[0m\u001b[0;34m\u001b[0m\u001b[0m\n\u001b[1;32m    241\u001b[0m             \u001b[0mpath\u001b[0m \u001b[0;34m=\u001b[0m \u001b[0mos\u001b[0m\u001b[0;34m.\u001b[0m\u001b[0mpath\u001b[0m\u001b[0;34m.\u001b[0m\u001b[0mjoin\u001b[0m\u001b[0;34m(\u001b[0m\u001b[0mself\u001b[0m\u001b[0;34m.\u001b[0m\u001b[0mdirectory\u001b[0m\u001b[0;34m,\u001b[0m \u001b[0mpath_that_might_be_relative\u001b[0m\u001b[0;34m)\u001b[0m\u001b[0;34m\u001b[0m\u001b[0;34m\u001b[0m\u001b[0m\n\u001b[0;32m--> 242\u001b[0;31m             \u001b[0;32mreturn\u001b[0m \u001b[0mopen\u001b[0m\u001b[0;34m(\u001b[0m\u001b[0mpath\u001b[0m\u001b[0;34m,\u001b[0m \u001b[0mmode\u001b[0m\u001b[0;34m)\u001b[0m\u001b[0;34m\u001b[0m\u001b[0;34m\u001b[0m\u001b[0m\n\u001b[0m\u001b[1;32m    243\u001b[0m         \u001b[0;32mif\u001b[0m \u001b[0mfilename\u001b[0m \u001b[0;32mis\u001b[0m \u001b[0;32mNone\u001b[0m\u001b[0;34m:\u001b[0m\u001b[0;34m\u001b[0m\u001b[0;34m\u001b[0m\u001b[0m\n\u001b[1;32m    244\u001b[0m             \u001b[0mfilename\u001b[0m \u001b[0;34m=\u001b[0m \u001b[0murlparse\u001b[0m\u001b[0;34m(\u001b[0m\u001b[0murl\u001b[0m\u001b[0;34m)\u001b[0m\u001b[0;34m.\u001b[0m\u001b[0mpath\u001b[0m\u001b[0;34m.\u001b[0m\u001b[0msplit\u001b[0m\u001b[0;34m(\u001b[0m\u001b[0;34m'/'\u001b[0m\u001b[0;34m)\u001b[0m\u001b[0;34m[\u001b[0m\u001b[0;34m-\u001b[0m\u001b[0;36m1\u001b[0m\u001b[0;34m]\u001b[0m\u001b[0;34m\u001b[0m\u001b[0;34m\u001b[0m\u001b[0m\n",
      "\u001b[0;31mFileNotFoundError\u001b[0m: [Errno 2] No such file or directory: 'data/skyfield/data/tle/active.txt'"
     ]
    }
   ],
   "source": [
    "'''\n",
    "2018-11-20\n",
    "following along with <https://github.com/skyfielders/astronomy-notebooks/blob/master/Solvers/Earth-Satellite-Passes.ipynb>\n",
    "'''\n",
    "\n",
    "import math\n",
    "\n",
    "from skyfield.api import Loader, Topos, earth, JulianDate\n",
    "import matplotlib.pyplot as plt\n",
    "from scipy import optimize\n",
    "import maidenhead as mh\n",
    "import numpy as np\n",
    "\n",
    "load = Loader('data/skyfield')\n",
    "\n",
    "ts = load.timescale()\n",
    "\n",
    "tau = 2.0 * np.pi\n",
    "\n",
    "'''CONFIGURE ME!!!!'''\n",
    "tle = load.tle('../tle/active.txt')\n",
    "src_mh = 'EM15'\n",
    "satellite = 'FOX-1B'\n",
    "#satellite = 'AO-92'\n",
    "window_start = (2018, 11, 24)\n",
    "window_days = 5.0\n",
    "min_altitude = 30.0\n",
    "time_above = 15.0\n",
    "\n",
    "# do every minute for 24 hours starting on 2018-11-19 0000Z UTC\n",
    "window_minutes = 24 * 60 * window_days\n",
    "time_range = ts.utc(*window_start, 0, range(int(window_minutes)))\n",
    "\n",
    "home = Topos(*mh.toLoc(src_mh))\n",
    "sat = tle[satellite]\n",
    "\n",
    "diff = sat - home\n",
    "print(diff)\n",
    "\n",
    "def alt_f(t):\n",
    "    return diff.at(t).altaz()[0].degrees\n",
    "\n",
    "print(time_range)\n",
    "print(time_range[0])\n",
    "print(time_range[-1])\n",
    "altitudes = alt_f(time_range)\n",
    "plt.plot(time_range.tai, altitudes)\n",
    "plt.title('{} elevation @ {}\\n{} to {}'.format(\n",
    "        satellite\n",
    "        , src_mh\n",
    "        , time_range[0].utc_iso()\n",
    "        , time_range[-1].utc_iso()\n",
    "    )\n",
    ")"
   ]
  },
  {
   "cell_type": "code",
   "execution_count": null,
   "metadata": {
    "scrolled": true
   },
   "outputs": [],
   "source": [
    "# sample six points per orbit to improve performance\n",
    "orbit_period_per_minute = tau / sat.model.no\n",
    "orbit_period_per_day = tau / sat.model.no / 24.0 / 60.0\n",
    "print(orbit_period_per_day)\n",
    "orbit_period = orbit_period_per_minute / window_minutes\n",
    "revolutions_in_window = 1.0 / orbit_period # approximate number of peaks\n",
    "sample_points = int(math.ceil(revolutions_in_window * 6.0))\n",
    "#sample_step = int(math.floor(window_minutes / sample_points))\n",
    "sample_step = (time_range[-1] - time_range[0]) / sample_points\n",
    "print('sample_step', sample_step)\n",
    "print(revolutions_in_window, 'revolutions in window')\n",
    "print(orbit_period_per_minute, 'orbital period per minute')\n",
    "print(orbit_period / 6.0, 'orbit period')\n",
    "print(sample_points, 'sample points (revs*6)')\n",
    "#sample_time_range = ts.utc(*window_start, 0, range(0, int(math.ceil(window_minutes)), sample_step))\n",
    "sample_time_range = ts.tai_jd([time_range[0].tai + (_ * sample_step) for _ in range(sample_points)])\n",
    "print(sample_time_range)\n",
    "\n",
    "sample_altitudes = alt_f(sample_time_range)\n",
    "print(sample_altitudes)"
   ]
  },
  {
   "cell_type": "code",
   "execution_count": null,
   "metadata": {},
   "outputs": [],
   "source": [
    "left_diff = np.ediff1d(sample_altitudes, to_begin=0.0)\n",
    "right_diff = np.ediff1d(sample_altitudes, to_end=0.0)\n",
    "maxima = (left_diff > 0.0) & (right_diff < 0.0)\n",
    "print(sum(maxima), 'sample peaks')\n",
    "plt.plot(sample_time_range.tai, sample_altitudes)\n",
    "plt.title('{} elevation @ {}\\n{} minute sample\\n{} to {}'.format(\n",
    "        satellite\n",
    "        , src_mh\n",
    "        , sample_step\n",
    "        , sample_time_range[0].utc_iso()\n",
    "        , sample_time_range[-1].utc_iso()\n",
    "    )\n",
    ")\n",
    "plt.plot(sample_time_range[maxima].tai, sample_altitudes[maxima], 'ro')\n",
    "print(sample_time_range[maxima])"
   ]
  },
  {
   "cell_type": "code",
   "execution_count": null,
   "metadata": {},
   "outputs": [],
   "source": [
    "def alt_f_minimization_wrapper(t):\n",
    "    return -alt_f(ts.tai_jd(t))\n",
    "\n",
    "def find_highest(t, step):\n",
    "    return optimize.minimize_scalar(\n",
    "        alt_f_minimization_wrapper\n",
    "        , bracket=[t.tai + step, t.tai - step]\n",
    "        , tol=(1.0 / 24.0 / 60.0 / 60.0) / t.tai\n",
    "    ).x\n",
    "\n",
    "print((window_minutes / sample_points) / (60 * 24))\n",
    "#t_highest = ts.tai_jd([find_highest(ti, (window_minutes / sample_points) / (60 * 24)) for ti in sample_time_range[maxima]])\n",
    "np.random.seed(99999)\n",
    "t_highest = ts.tai_jd([find_highest(ti, sample_step) for ti in sample_time_range[maxima]])\n",
    "print(t_highest)\n",
    "plt.plot(sample_time_range.tai, sample_altitudes)\n",
    "plt.title('{} elevation @ {}\\n{} minute sample\\n{} to {}'.format(\n",
    "        satellite\n",
    "        , src_mh\n",
    "        , sample_step\n",
    "        , sample_time_range[0].utc_iso()\n",
    "        , sample_time_range[-1].utc_iso()\n",
    "    )\n",
    ")\n",
    "plt.plot(sample_time_range[maxima].tai, sample_altitudes[maxima], 'ro')"
   ]
  },
  {
   "cell_type": "code",
   "execution_count": null,
   "metadata": {},
   "outputs": [],
   "source": [
    "plt.title('{} elevation @ {}\\n{} to {}'.format(\n",
    "        satellite\n",
    "        , src_mh\n",
    "        , sample_time_range[0].utc_iso()\n",
    "        , sample_time_range[-1].utc_iso()\n",
    "    )\n",
    ")\n",
    "plt.plot(time_range.tai, altitudes)\n",
    "plt.plot([_.tai for _ in t_highest], alt_f(t_highest), 'go')"
   ]
  },
  {
   "cell_type": "code",
   "execution_count": null,
   "metadata": {},
   "outputs": [],
   "source": [
    "def rising_setting_wrapper(t):\n",
    "    return -alt_f_minimization_wrapper(t)\n",
    "\n",
    "def find_rising(t, step):\n",
    "    return optimize.brentq(rising_setting_wrapper, t.tai - (2 * step), t.tai)\n",
    "\n",
    "def find_setting(t, step):\n",
    "    return optimize.brentq(rising_setting_wrapper, t.tai + (2 * step), t.tai)\n",
    "\n",
    "print(t_highest)\n",
    "passes = ts.tai_jd([_.tai for _ in t_highest if alt_f(_) > min_altitude])\n",
    "print(passes)\n",
    "rising = ts.tai_jd([find_rising(_, (window_minutes / sample_points) / (24 * 60)) for _ in passes])\n",
    "setting = ts.tai_jd([find_setting(_, (window_minutes / sample_points) / (24 * 60)) for _ in passes])\n",
    "\n",
    "for start, peak, stop in zip(rising, passes, setting):\n",
    "    print(start.utc_iso(), peak.utc_iso(), stop.utc_iso())"
   ]
  },
  {
   "cell_type": "code",
   "execution_count": null,
   "metadata": {},
   "outputs": [],
   "source": []
  }
 ],
 "metadata": {
  "kernelspec": {
   "display_name": "Python 3",
   "language": "python",
   "name": "python3"
  },
  "language_info": {
   "codemirror_mode": {
    "name": "ipython",
    "version": 3
   },
   "file_extension": ".py",
   "mimetype": "text/x-python",
   "name": "python",
   "nbconvert_exporter": "python",
   "pygments_lexer": "ipython3",
   "version": "3.7.1"
  }
 },
 "nbformat": 4,
 "nbformat_minor": 2
}
